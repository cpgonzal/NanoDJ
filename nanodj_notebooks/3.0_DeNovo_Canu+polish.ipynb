{
 "cells": [
  {
   "cell_type": "markdown",
   "metadata": {},
   "source": [
    "## Improving consensus sequence for a draft genome assembly using Nanopolish\n",
    "\n",
    "In this notebook we will get a draft genome assembly using canu and try to improve the consensus sequence. [Nanpolish](https://github.com/jts/nanopolish) works with signal-level ONT data, the basecalled reads and the draft assembly to generate a improved assembly.\n",
    "\n",
    "The first step is to get the draft assembly. This can be done with any assembly tool for ONT data. Here we are using [Canu](https://github.com/marbl/canu):"
   ]
  },
  {
   "cell_type": "code",
   "execution_count": null,
   "metadata": {
    "collapsed": true
   },
   "outputs": [],
   "source": [
    "canu -p agalactiae \\\n",
    "     -d data/agalactiae/canu_output \\\n",
    "     genomeSize=4.6m \\\n",
    "     useGrid=false \\\n",
    "     minReadLength=50 \\\n",
    "     minOverlapLength=50 \\\n",
    "     -nanopore-raw data/agalactiae/merged-output.fastq"
   ]
  },
  {
   "cell_type": "markdown",
   "metadata": {},
   "source": [
    "Before using nanopolish, we need to do some preprocessing of the reads and assemblies. We will be using [BWA aligner](https://github.com/lh3/bwa) to accomplish the task of getting the input files to the nanopolish tool.\n",
    "\n",
    "In first place, we index the draft assembly and perform an alignment against the basecalled reads file:\n"
   ]
  },
  {
   "cell_type": "code",
   "execution_count": null,
   "metadata": {
    "collapsed": true,
    "scrolled": false
   },
   "outputs": [],
   "source": [
    "bwa index data/agalactiae/canu_output/agalactiae.contigs.fasta"
   ]
  },
  {
   "cell_type": "markdown",
   "metadata": {},
   "source": [
    "In addition to the alignment, note that we are using samtools to sort the aligned reads file and index this file:"
   ]
  },
  {
   "cell_type": "code",
   "execution_count": null,
   "metadata": {
    "collapsed": true,
    "scrolled": true
   },
   "outputs": [],
   "source": [
    "bwa mem -x ont2d -t 2 data/agalactiae/canu_output/agalactiae.contigs.fasta data/agalactiae/merged-output.fastq | samtools sort -o reads.sorted.bam -T reads.tmp - samtools index reads.sorted.bam"
   ]
  },
  {
   "cell_type": "markdown",
   "metadata": {},
   "source": [
    "After getting the input files for nanopolish, we build an index mapping from basecalled reads to the ONT event data (directory with the original FAST5 files)."
   ]
  },
  {
   "cell_type": "code",
   "execution_count": null,
   "metadata": {
    "collapsed": true
   },
   "outputs": [],
   "source": [
    "#MinION raw data files for agalactiae not included in the repository\n",
    "nanopolish index -d data/agalactiae/minion_data/pass \\\n",
    "                               data/agalactiae/merged-output.fastq\n"
   ]
  },
  {
   "cell_type": "markdown",
   "metadata": {},
   "source": [
    "Now we can perform the improvement of our draft assembly:"
   ]
  },
  {
   "cell_type": "code",
   "execution_count": null,
   "metadata": {
    "collapsed": true
   },
   "outputs": [],
   "source": [
    "python3 nanopolish_makerange.py data/agalactiae/canu_output/agalactiae.contigs.fasta | parallel --results nanopolish.results -P 2 \\\n",
    "    nanopolish/nanopolish variants --consensus polished.{1}.fa -w {1} -r data/agalactiae/merged-output.fastq -b reads.sorted.bam -g data/agalactiae/canu_output/agalactiae.contigs.fasta -t 4 --min-candidate-frequency 0.1"
   ]
  },
  {
   "cell_type": "code",
   "execution_count": null,
   "metadata": {
    "collapsed": true
   },
   "outputs": [],
   "source": []
  }
 ],
 "metadata": {
  "kernelspec": {
   "display_name": "Bash",
   "language": "bash",
   "name": "bash"
  },
  "language_info": {
   "codemirror_mode": "shell",
   "file_extension": ".sh",
   "mimetype": "text/x-sh",
   "name": "bash"
  }
 },
 "nbformat": 4,
 "nbformat_minor": 2
}
