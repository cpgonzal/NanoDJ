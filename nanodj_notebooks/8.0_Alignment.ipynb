{
 "cells": [
  {
   "cell_type": "markdown",
   "metadata": {},
   "source": [
    "## Alignment with BWA"
   ]
  },
  {
   "cell_type": "markdown",
   "metadata": {},
   "source": [
    "[BWA](https://github.com/lh3/bwa) is a sequence alignment software package which includes tools for mapping ONT long reads to a reference. This program is used more than once in these notebooks as a step of some pipelines such as nanopolish. BWA needs the sequence reads and a reference as inputs and supports more than one execution thread with the -t option."
   ]
  },
  {
   "cell_type": "code",
   "execution_count": null,
   "metadata": {
    "collapsed": true
   },
   "outputs": [],
   "source": [
    "bwa index data/agalactiae/reference/NZ_CP010867.1_Ref_MODIFICADA.fasta\n",
    "bwa mem -t 2 data/agalactiae/reference/NZ_CP010867.1_Ref_MODIFICADA.fasta data/agalactiae/merged-output.fasta > data/agalactiae/bwa_output.sam"
   ]
  },
  {
   "cell_type": "markdown",
   "metadata": {},
   "source": [
    "## Reference based assembly with Rebaler.\n",
    "\n",
    "[Rebaler](https://github.com/rrwick/Rebaler) is a software to get reference based assemblies from long reads. Once the Rebaler assembly is built, multiple [Racon](https://github.com/isovic/racon) rounds are run to polish the consensus sequence."
   ]
  },
  {
   "cell_type": "code",
   "execution_count": null,
   "metadata": {
    "collapsed": true
   },
   "outputs": [],
   "source": [
    "rebaler -h"
   ]
  },
  {
   "cell_type": "code",
   "execution_count": null,
   "metadata": {},
   "outputs": [],
   "source": [
    "rebaler -t 48 data/agalactiae/reference/NZ_CP010867.1_Ref_MODIFICADA.fasta data/agalactiae/merged-output.fasta > data/agalactiae/assembly_with_rebaler.fasta"
   ]
  },
  {
   "cell_type": "code",
   "execution_count": null,
   "metadata": {
    "collapsed": true
   },
   "outputs": [],
   "source": []
  }
 ],
 "metadata": {
  "kernelspec": {
   "display_name": "Bash",
   "language": "bash",
   "name": "bash"
  },
  "language_info": {
   "codemirror_mode": "shell",
   "file_extension": ".sh",
   "mimetype": "text/x-sh",
   "name": "bash"
  }
 },
 "nbformat": 4,
 "nbformat_minor": 2
}
