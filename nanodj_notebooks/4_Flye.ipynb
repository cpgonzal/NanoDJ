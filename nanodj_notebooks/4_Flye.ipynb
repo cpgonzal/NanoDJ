{
 "cells": [
  {
   "cell_type": "markdown",
   "metadata": {},
   "source": [
    "## De novo assembly with Flye\n",
    "\n",
    "[Flye](https://github.com/fenderglass/Flye) is a de novo assembler for long and noisy reads such as ONT reads. Flye builds the ABruijn graph and performs an extra repeat classification and analysis step. It also has a polished module that produces the final assembly."
   ]
  },
  {
   "cell_type": "markdown",
   "metadata": {},
   "source": [
    "Flye basic arguments are:\n",
    "\n",
    "--nanoraw FASTA reads file of ONT reads.  \n",
    "--out-dir Output directory.  \n",
    "--genome-size Size of the assembled genome.  \n",
    "--threads Number of available threads to perform the assembly.  "
   ]
  },
  {
   "cell_type": "code",
   "execution_count": null,
   "metadata": {
    "collapsed": true
   },
   "outputs": [],
   "source": [
    "flye --nano-raw data/agalactiae/merged-output.fastq --out-dir data/agalactiae/flye_output --genome-size 4.7m --threads 2"
   ]
  },
  {
   "cell_type": "markdown",
   "metadata": {},
   "source": [
    "### Related publications:\n",
    "\n",
    "[Mikhail Kolmogorov, Jeffrey Yuan, Yu Lin and Pavel Pevzner, \"Assembly of Long Error-Prone Reads Using Repeat Graphs\", bioRxiv, 2018](https://www.biorxiv.org/content/early/2018/01/12/247148)\n",
    "\n",
    "[Yu Lin, Jeffrey Yuan, Mikhail Kolmogorov, Max W Shen, Mark Chaisson and Pavel Pevzner, \"Assembly of Long Error-Prone Reads Using de Bruijn Graphs\", PNAS, 2016](www.pnas.org/content/113/52/E8396)"
   ]
  },
  {
   "cell_type": "code",
   "execution_count": null,
   "metadata": {},
   "outputs": [],
   "source": []
  }
 ],
 "metadata": {
  "kernelspec": {
   "display_name": "Bash",
   "language": "bash",
   "name": "bash"
  },
  "language_info": {
   "codemirror_mode": "shell",
   "file_extension": ".sh",
   "mimetype": "text/x-sh",
   "name": "bash"
  }
 },
 "nbformat": 4,
 "nbformat_minor": 2
}
