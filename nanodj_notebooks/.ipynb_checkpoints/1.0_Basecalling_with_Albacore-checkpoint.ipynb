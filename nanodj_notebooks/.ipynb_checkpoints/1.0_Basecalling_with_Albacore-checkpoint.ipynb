{
 "cells": [
  {
   "cell_type": "markdown",
   "metadata": {},
   "source": [
    "## Basecalling with Albacore\n",
    "\n",
    "Albacore is a basecaller for ONT data. FAST5 files with event data are processed with Albacore which outputs the FASTQ sequence files."
   ]
  },
  {
   "cell_type": "code",
   "execution_count": 1,
   "metadata": {},
   "outputs": [
    {
     "name": "stdout",
     "output_type": "stream",
     "text": [
      "usage: read_fast5_basecaller.py [-h] [-l] [-v] [-i INPUT] -t WORKER_THREADS -s\n",
      "                                SAVE_PATH [-f FLOWCELL] [-k KIT] [--barcoding]\n",
      "                                [-c CONFIG] [-d DATA_PATH] [-b] [-r]\n",
      "                                [-n FILES_PER_BATCH_FOLDER] [-o OUTPUT_FORMAT]\n",
      "                                [-q READS_PER_FASTQ_BATCH]\n",
      "\n",
      "ONT Albacore Sequencing Pipeline Software\n",
      "\n",
      "optional arguments:\n",
      "  -h, --help            show this help message and exit\n",
      "  -l, --list_workflows  List standard flowcell / kit combinations.\n",
      "  -v, --version         Print the software version.\n",
      "  -i INPUT, --input INPUT\n",
      "                        Folder containing read fast5 files (if not present,\n",
      "                        will expect file names on stdin).\n",
      "  -t WORKER_THREADS, --worker_threads WORKER_THREADS\n",
      "                        Number of worker threads to use.\n",
      "  -s SAVE_PATH, --save_path SAVE_PATH\n",
      "                        Path to save output.\n",
      "  -f FLOWCELL, --flowcell FLOWCELL\n",
      "                        Flowcell used during the sequencing run.\n",
      "  -k KIT, --kit KIT     Kit used during the sequencing run.\n",
      "  --barcoding           Search for barcodes to demultiplex sequencing data.\n",
      "  -c CONFIG, --config CONFIG\n",
      "                        Optional configuration file to use.\n",
      "  -d DATA_PATH, --data_path DATA_PATH\n",
      "                        Optional path to model files.\n",
      "  -b, --debug           Output additional debug information to the log.\n",
      "  -r, --recursive       Recurse through subfolders for input data files.\n",
      "  -n FILES_PER_BATCH_FOLDER, --files_per_batch_folder FILES_PER_BATCH_FOLDER\n",
      "                        Maximum number of files in each batch subfolder. Set\n",
      "                        to 0 to disable batch subfolders.\n",
      "  -o OUTPUT_FORMAT, --output_format OUTPUT_FORMAT\n",
      "                        desired output format, can be fastq,fast5 or only one\n",
      "                        of these.\n",
      "  -q READS_PER_FASTQ_BATCH, --reads_per_fastq_batch READS_PER_FASTQ_BATCH\n",
      "                        number of reads per FastQ batch file. Set to 0 to\n",
      "                        receive one reads per file and file names which\n",
      "                        include the read ID.\n"
     ]
    }
   ],
   "source": [
    "read_fast5_basecaller.py -h"
   ]
  },
  {
   "cell_type": "markdown",
   "metadata": {},
   "source": [
    "Output files are often divided in more than one FASTQ/FASTA archive. In order to perform QC, alignments or assemblies, the sequences need to be in one unique file. We can easily join the output files using bash commands:"
   ]
  },
  {
   "cell_type": "code",
   "execution_count": 1,
   "metadata": {},
   "outputs": [
    {
     "name": "stdout",
     "output_type": "stream",
     "text": [
      "Parsing config files in /opt/albacore.\n",
      "Available flowcell + kit combinations are:\n",
      "flowcell    kit         barcoding  config file\n",
      "FLO-MIN106  SQK-DCS108             r94_450bps_linear.cfg\n",
      "FLO-MIN106  SQK-LSK108             r94_450bps_linear.cfg\n",
      "FLO-MIN106  SQK-LWB001  included   r94_450bps_linear.cfg\n",
      "FLO-MIN106  SQK-LWP001             r94_450bps_linear.cfg\n",
      "FLO-MIN106  SQK-PCS108             r94_450bps_linear.cfg\n",
      "FLO-MIN106  SQK-RAB201  included   r94_450bps_linear.cfg\n",
      "FLO-MIN106  SQK-RAB204  included   r94_450bps_linear.cfg\n",
      "FLO-MIN106  SQK-RAD002             r94_450bps_linear.cfg\n",
      "FLO-MIN106  SQK-RAD003             r94_450bps_linear.cfg\n",
      "FLO-MIN106  SQK-RAD004             r94_450bps_linear.cfg\n",
      "FLO-MIN106  SQK-RAS201             r94_450bps_linear.cfg\n",
      "FLO-MIN106  SQK-RBK001  included   r94_450bps_linear.cfg\n",
      "FLO-MIN106  SQK-RBK004  included   r94_450bps_linear.cfg\n",
      "FLO-MIN106  SQK-RLB001  included   r94_450bps_linear.cfg\n",
      "FLO-MIN106  SQK-RLI001             r94_450bps_linear.cfg\n",
      "FLO-MIN106  SQK-RNA001             r941_70bps_rna_linear.cfg\n",
      "FLO-MIN106  SQK-RPB004  included   r94_450bps_linear.cfg\n",
      "FLO-MIN106  VSK-VBK001             r94_450bps_linear.cfg\n",
      "FLO-MIN106  VSK-VSK001             r94_450bps_linear.cfg\n",
      "FLO-MIN107  SQK-DCS108             r95_450bps_linear.cfg\n",
      "FLO-MIN107  SQK-LSK108             r95_450bps_linear.cfg\n",
      "FLO-MIN107  SQK-LWB001  included   r95_450bps_linear.cfg\n",
      "FLO-MIN107  SQK-LWP001             r95_450bps_linear.cfg\n",
      "FLO-MIN107  SQK-PCS108             r95_450bps_linear.cfg\n",
      "FLO-MIN107  SQK-RAB201  included   r95_450bps_linear.cfg\n",
      "FLO-MIN107  SQK-RAB204  included   r95_450bps_linear.cfg\n",
      "FLO-MIN107  SQK-RAD002             r95_450bps_linear.cfg\n",
      "FLO-MIN107  SQK-RAD003             r95_450bps_linear.cfg\n",
      "FLO-MIN107  SQK-RAD004             r95_450bps_linear.cfg\n",
      "FLO-MIN107  SQK-RAS201             r95_450bps_linear.cfg\n",
      "FLO-MIN107  SQK-RBK001  included   r95_450bps_linear.cfg\n",
      "FLO-MIN107  SQK-RBK004  included   r95_450bps_linear.cfg\n",
      "FLO-MIN107  SQK-RLB001  included   r95_450bps_linear.cfg\n",
      "FLO-MIN107  SQK-RLI001             r95_450bps_linear.cfg\n",
      "FLO-MIN107  SQK-RNA001             r941_70bps_rna_linear.cfg\n",
      "FLO-MIN107  SQK-RPB004  included   r95_450bps_linear.cfg\n",
      "FLO-MIN107  VSK-VBK001             r95_450bps_linear.cfg\n",
      "FLO-MIN107  VSK-VSK001             r95_450bps_linear.cfg\n",
      "FLO-PRO001  SQK-LSK108             r941_450bps_linear_prom.cfg\n"
     ]
    }
   ],
   "source": [
    "read_fast5_basecaller.py -l"
   ]
  },
  {
   "cell_type": "markdown",
   "metadata": {},
   "source": [
    "#### REMARK: **Data should not be included in /data folder of this project (see \"Additional data\" section in README file)**\n"
   ]
  },
  {
   "cell_type": "code",
   "execution_count": null,
   "metadata": {},
   "outputs": [],
   "source": [
    "read_fast5_basecaller.py -i data/Agalactiae/Data_MinION/raw_1D/pass \\\n",
    "                         -r \\\n",
    "                         -t 48 \\\n",
    "                         -s data/Agalactiae/Outputs/Albacore \\\n",
    "                         -o fastq,fast5 \\\n",
    "                         -c r94_450bps_linear.cfg\n"
   ]
  },
  {
   "cell_type": "markdown",
   "metadata": {},
   "source": [
    "Output files are often divided in more than one FASTQ/FASTA file. In order to perform QC, alignments or assemblies, the sequences need to be in one unique file. We can easily join the output files using bash commands:"
   ]
  },
  {
   "cell_type": "code",
   "execution_count": 6,
   "metadata": {
    "collapsed": true
   },
   "outputs": [],
   "source": [
    "cat data/fastq-files/*.fastq > data/merged-output.fastq"
   ]
  },
  {
   "cell_type": "code",
   "execution_count": null,
   "metadata": {
    "collapsed": true
   },
   "outputs": [],
   "source": []
  }
 ],
 "metadata": {
  "kernelspec": {
   "display_name": "Bash",
   "language": "bash",
   "name": "bash"
  },
  "language_info": {
   "codemirror_mode": "shell",
   "file_extension": ".sh",
   "mimetype": "text/x-sh",
   "name": "bash"
  }
 },
 "nbformat": 4,
 "nbformat_minor": 2
}
