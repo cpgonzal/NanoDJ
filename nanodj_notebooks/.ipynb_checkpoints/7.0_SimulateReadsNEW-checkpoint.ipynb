{
 "cells": [
  {
   "cell_type": "markdown",
   "metadata": {},
   "source": [
    "## Simmulating MinION reads with Nanosim\n",
    "\n",
    "[NanoSim](https://github.com/bcgsc/NanoSim) is a fast and scalable read simulator that captures the technology-specific features of ONT data, and allows for adjustments upon improvement of nanopore sequencing technology.\n",
    "\n",
    "NanoSim proceeds in two steps. In the first step, NanoSim provides a comprehensive alignment-based analysis and generates a set of read profiles (read characterization step). Whereas in the second step, it models the read features such as the base-calling errors of ONT reads and the length distribution (built in the previous step) to produce in silico reads for a given reference genome (simulation step). Although ONT chemistry is still evolving, the statistical models that NanoSim uses are theoretically valid for any version of it. At the moment, it has been tested with both the 1D reads using the R9 chemistry, and the 2D reads using the chemistry R7, R7.3 and R9. NanoSim can simulate either circular or linear genomes and is capable of simulating reads from genomes with multiple chromosomes. An important note is that the runtime and memory requirements of NanoSim are highly dependent on the number of simulated reads and the length of the reference sequence.\n",
    "\n",
    "NanoDJ uses NanoSim-h [Nanosim-h](https://github.com/karel-brinda/NanoSim-H), a fork from the NanoSim project, which permits moving directly to the simulation step using precomputed error profiles instead of investing time on the read characterization step. This alternative may be attractive for those users without access to ONT read-level information data."
   ]
  },
  {
   "cell_type": "code",
   "execution_count": 1,
   "metadata": {},
   "outputs": [
    {
     "name": "stdout",
     "output_type": "stream",
     "text": [
      "usage: nanosim-h [-h] [-v] [-p str] [-o str] [-n int] [-u float] [-m float]\n",
      "                 [-i float] [-d float] [-s int] [--circular] [--perfect]\n",
      "                 [--merge-contigs] [--rnf] [--rnf-add-cigar] [--max-len int]\n",
      "                 [--min-len int] [--kmer-bias int]\n",
      "                 <reference.fa>\n",
      "\n",
      "Program:  NanoSim-H - a simulator of Oxford Nanopore reads.\n",
      "Version:  1.1.0.4\n",
      "Authors:  Chen Yang <cheny@bcgsc.ca> - author of the original software package (NanoSim)\n",
      "          Karel Brinda <kbrinda@hsph.harvard.edu> - author of the NanoSim-H fork\n",
      "\n",
      "positional arguments:\n",
      "  <reference.fa>        reference genome (- for standard input)\n",
      "\n",
      "optional arguments:\n",
      "  -h, --help            show this help message and exit\n",
      "  -v, --version         show program's version number and exit\n",
      "  -p str, --profile str\n",
      "                        error profile - one of precomputed profiles\n",
      "                        ('ecoli_R9_2D', 'ecoli_R9_1D', 'ecoli_UCSC1b',\n",
      "                        'ecoli_R7.3', 'yeast', 'ecoli_R7') or own directory\n",
      "                        with an error profile [ecoli_R9_2D]\n",
      "  -o str, --out-pref str\n",
      "                        prefix of output file [simulated]\n",
      "  -n int, --number int  number of generated reads [10000]\n",
      "  -u float, --unalign-rate float\n",
      "                        rate of unaligned reads [detect from the error\n",
      "                        profile]\n",
      "  -m float, --mis-rate float\n",
      "                        mismatch rate (weight tuning) [1.0]\n",
      "  -i float, --ins-rate float\n",
      "                        insertion rate (weight tuning) [1.0]\n",
      "  -d float, --del-rate float\n",
      "                        deletion rate (weight tuning) [1.0]\n",
      "  -s int, --seed int    initial seed for the pseudorandom number generator (0\n",
      "                        for random) [42]\n",
      "  --circular            circular simulation (linear otherwise)\n",
      "  --perfect             output perfect reads, no mutations\n",
      "  --merge-contigs       merge contigs from the reference\n",
      "  --rnf                 use RNF format for read names\n",
      "  --rnf-add-cigar       add cigar to RNF names (not fully debugged, yet)\n",
      "  --max-len int         maximum read length [inf]\n",
      "  --min-len int         minimum read length [50]\n",
      "  --kmer-bias int       prohibits homopolymers with length >= n bases in\n",
      "                        output reads [6]\n",
      "\n",
      "Examples: nanosim-h --circular ecoli_ref.fasta\n",
      "          nanosim-h --circular --perfect ecoli_ref.fasta\n",
      "          nanosim-h -p yeast --kmer-bias 0 yeast_ref.fasta\n",
      "\n",
      "Notice: the use of `max-len` and `min-len` will affect the read length distributions. If\n",
      "the range between `max-len` and `min-len` is too small, the program will run slowlier accordingly.\n"
     ]
    }
   ],
   "source": [
    "!nanosim-h -h"
   ]
  },
  {
   "cell_type": "code",
   "execution_count": 1,
   "metadata": {
    "collapsed": true
   },
   "outputs": [
    {
     "name": "stdout",
     "output_type": "stream",
     "text": [
      "/home/jovyan/notebooks/data/sample\n",
      "Using profile ecoli_R9_2D from default profiles\n",
      "Simulating unaligned reads\n",
      "100% (12 of 12) |########################| Elapsed Time: 0:00:00 Time:  0:00:00\n",
      "Simulating aligned reads\n",
      "100% (188 of 188) |######################| Elapsed Time: 0:00:06 Time:  0:00:06\n"
     ]
    }
   ],
   "source": [
    "%cd data/sample/\n",
    "!nanosim-h -n 200 reference/NZ_CP010867.1_Ref.fasta"
   ]
  },
  {
   "cell_type": "markdown",
   "metadata": {},
   "source": [
    "Using the QualityControl.ipynb the user can generate distinct plots and tables (read length, GC content, etc) out of the simulated reads:"
   ]
  },
  {
   "cell_type": "code",
   "execution_count": 2,
   "metadata": {
    "collapsed": true
   },
   "outputs": [],
   "source": [
    "%load_ext rpy2.ipython\n",
    "\n",
    "from Bio.SeqUtils import GC\n",
    "from Bio import SeqIO\n",
    "\n",
    "#Numpy and pandas to manage our data\n",
    "import numpy as np\n",
    "import pandas as pd\n",
    "import matplotlib.mlab as mlab\n",
    "import matplotlib.pyplot as plt\n",
    "import matplotlib\n",
    "\n",
    "#We will use reagular expressions for extract the read id\n",
    "import re\n",
    "\n",
    "#Function to build a pandas dataframe from a FASTA or FASTQ file\n",
    "def read_sequence_file(filename, format):\n",
    "    rows = []\n",
    "    columns = ['id', 'sequence', 'read_length', 'gc_content']\n",
    "    if(format == 'fastq'):\n",
    "        columns.append('avg_quality')\n",
    "    #Building each row with the read and its features\n",
    "    for seq_record in SeqIO.parse(filename, format):\n",
    "        if(format == 'fastq'):\n",
    "            quality_score = np.mean(seq_record.letter_annotations[\"phred_quality\"])\n",
    "        read_id = seq_record.description\n",
    "        if(format == 'fastq'):\n",
    "            rows.append([read_id, seq_record.seq, len(seq_record.seq), GC(seq_record.seq), quality_score])\n",
    "        else:\n",
    "            rows.append([read_id, seq_record.seq, len(seq_record.seq), GC(seq_record.seq)])  \n",
    "        \n",
    "    df = pd.DataFrame(rows, columns=columns)\n",
    "    return df\n",
    "\n"
   ]
  },
  {
   "cell_type": "code",
   "execution_count": 3,
   "metadata": {},
   "outputs": [
    {
     "data": {
      "image/png": "[encoded data removed]",
      "text/plain": [
       "<matplotlib.figure.Figure at 0x7fe22ca9a1d0>"
      ]
     },
     "metadata": {},
     "output_type": "display_data"
    }
   ],
   "source": [
    "# ----- Place the path to your reads file here ----- #\n",
    "seq_df = read_sequence_file('simulated.fa', 'fasta')\n",
    "\n",
    "#Setting the plot size\n",
    "matplotlib.rcParams['figure.figsize'] = (9, 8)\n",
    "\n",
    "#We can customize the plot using the pre-defined style called “ggplot” to emulate ggplot (popular R vizualization package) style \n",
    "plt.style.use('seaborn-notebook')\n",
    "\n",
    "#On the plt.hist parameters we can set the number of bins and the bar color using labels as 'blue', 'red', 'yellow'... or using a RGB code.\n",
    "#CHANGE 'read_length' FOR 'gc_content' TO PLOT GC CONTENT INSTAD OF READ LENGTH \n",
    "plt.hist(seq_df['read_length'], bins=50, color='#ef8a62')\n",
    "plt.title('Read length histogram')\n",
    "plt.xlabel('Read length in bp')\n",
    "plt.ylabel('Count')\n",
    "\n",
    "plt.show()"
   ]
  },
  {
   "cell_type": "markdown",
   "metadata": {},
   "source": [
    "## Nanosim regular version usage\n",
    "\n",
    "In the regular version of NanoSim, the two stages need to be executed separately. For the read characterization step, NanoSim takes a training read set in FASTA format and use minimap2 or LAST as alignment algorithm to characterize base-calling errors. An alignment file in SAM/MAF format can be provided instead of the reads. A set of read profiles is then generated and used as input in the simulation step.\n",
    "\n",
    "Ready to use read profiles are available and can be downloaded from [Supplementary data of NanoSim](ftp://ftp.bcgsc.ca/supplementary/NanoSim/). These profiles allow users to move directly to the simulation step.This is available since the last version"
   ]
  },
  {
   "cell_type": "code",
   "execution_count": 4,
   "metadata": {
    "collapsed": true
   },
   "outputs": [
    {
     "name": "stdout",
     "output_type": "stream",
     "text": [
      "./read_analysis.py <options>\n",
      "<options>: \n",
      "-h : print usage message\n",
      "-i : training ONT real reads, must be fasta files\n",
      "-r : reference genome of the training reads\n",
      "-a : Aligner to be used: minimap2 or LAST, default = 'minimap2\n",
      "-m : User can provide their own alignment file, with maf or sam extension, can be omitted\n",
      "-b : number of bins (for development), default = 20\n",
      "-t : number of threads for LAST alignment, default = 1\n",
      "-o : The prefix of output file, default = 'training'\n",
      "--no_model_fit : Skip the model fitting step\n"
     ]
    }
   ],
   "source": [
    "!read_analysis.py -h"
   ]
  },
  {
   "cell_type": "code",
   "execution_count": null,
   "metadata": {
    "collapsed": true
   },
   "outputs": [
    {
     "name": "stdout",
     "output_type": "stream",
     "text": [
      "2018-11-13 16:46:16: Read pre-process and unaligned reads analysis\n",
      "2018-11-13 16:46:18: Alignment with minimap2\n",
      "[M::mm_idx_gen::0.215*0.43] collected minimizers\n",
      "[M::mm_idx_gen::0.306*0.42] sorted minimizers\n",
      "[M::main::0.306*0.42] loaded/built the index for 1 target sequence(s)\n",
      "[M::mm_mapopt_update::0.325*0.42] mid_occ = 8\n",
      "[M::mm_idx_stat] kmer size: 15; skip: 10; is_hpc: 0; #seq: 1\n",
      "[M::mm_idx_stat::0.344*0.41] distinct minimizers: 396667 (98.51% are singletons); average occurrences: 1.029; average spacing: 5.347\n",
      "[M::worker_pipeline::6.023*0.85] mapped 3720 sequences\n",
      "[M::main] Version: 2.13-r858-dirty\n",
      "[M::main] CMD: minimap2 --cs -ax map-ont reference/NZ_CP010867.1_Ref.fasta sample_processed.fasta\n",
      "[M::main] Real time: 6.031 sec; CPU: 5.100 sec; Peak RSS: 0.310 GB\n",
      "2018-11-13 16:46:25: Aligned reads analysis\n",
      "2018-11-13 16:46:26: match and error models\n",
      "2018-11-13 16:46:29: Model fitting\n",
      "2018-11-13 16:46:29: Mismatch fitting start\n",
      "Mismatch parameters:  [ 0.13994987  0.77703295  0.19364047] 0.000213784733259\n",
      "2018-11-13 16:49:33: Mismatch fitting done\n",
      "2018-11-13 16:49:33: Insertion fitting start\n",
      "/home/jovyan/NanoSim-2.1.0/src/mixed_model.py:25: RuntimeWarning: overflow encountered in power\n",
      "  wei_cdf = 1 - np.exp(-1 * np.power(x / l, k))\n"
     ]
    }
   ],
   "source": [
    "!read_analysis.py -i reads.fasta -r reference/NZ_CP010867.1_Ref.fasta -o sample"
   ]
  },
  {
   "cell_type": "markdown",
   "metadata": {},
   "source": [
    "Simulation stage takes read profiles and reference as input. The output of this stage consists of a FASTA file with the simulated reads."
   ]
  },
  {
   "cell_type": "code",
   "execution_count": 9,
   "metadata": {
    "collapsed": true
   },
   "outputs": [
    {
     "name": "stdout",
     "output_type": "stream",
     "text": [
      "./simulator.py [command] <options>\n",
      "[command] circular | linear\n",
      "Do not choose 'circular' when there is more than one sequence in the reference\n",
      "<options>: \n",
      "-h : print usage message\n",
      "-r : reference genome in fasta file, specify path and file name, REQUIRED\n",
      "-c : The prefix of training set profiles, same as the output prefix in read_analysis.py, default = training\n",
      "-o : The prefix of output file, default = 'simulated'\n",
      "-n : Number of generated reads, default = 20,000 reads\n",
      "--max_len : Maximum read length, default = Inf\n",
      "--min_len : Minimum read length, default = 50\n",
      "--perfect: Output perfect reads, no mutations, default = False\n",
      "--KmerBias: prohibits homopolymers with length >= n bases in output reads, default = 6\n",
      "--seed: manually seeds the pseudo-random number generator, default = None\n"
     ]
    }
   ],
   "source": [
    "!simulator.py -H"
   ]
  },
  {
   "cell_type": "code",
   "execution_count": null,
   "metadata": {
    "collapsed": true
   },
   "outputs": [],
   "source": [
    "simulator.py circular -r data/sample/reference/NZ_CP010867.1_Ref.fasta -c sample"
   ]
  },
  {
   "cell_type": "markdown",
   "metadata": {},
   "source": [
    "### Reference:\n",
    "\n",
    "[Chen Yang, Justin Chu, René L Warren, Inanç Birol; NanoSim: nanopore sequence read simulator based on statistical characterization. Gigascience 2017 gix010. doi: 10.1093/gigascience/gix010](https://academic.oup.com/gigascience/article/6/4/gix010/3051934)\n"
   ]
  }
 ],
 "metadata": {
  "kernelspec": {
   "display_name": "Python 3",
   "language": "python",
   "name": "python3"
  },
  "language_info": {
   "codemirror_mode": {
    "name": "ipython",
    "version": 3
   },
   "file_extension": ".py",
   "mimetype": "text/x-python",
   "name": "python",
   "nbconvert_exporter": "python",
   "pygments_lexer": "ipython3",
   "version": "3.6.3"
  }
 },
 "nbformat": 4,
 "nbformat_minor": 2
}
