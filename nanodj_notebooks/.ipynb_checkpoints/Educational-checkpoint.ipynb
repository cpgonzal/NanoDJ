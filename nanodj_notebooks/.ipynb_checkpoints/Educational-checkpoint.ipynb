{
 "cells": [
  {
   "cell_type": "markdown",
   "metadata": {},
   "source": [
    "### **MinION sequencing**\n",
    "\n",
    "The purpose of DNA sequencing is to obtain the specific disposition of the consecutive nucleotides (A, T, G and C “letters”) of an organism. The entire nucleotide sequence of an organism is what is known as the genome. Among many achievements, DNA sequencing have allowed the identification of the characteristic genes of species and the identification of the genetic basis of many diseases. Although at the moment DNA sequencing is restricted to research centers and hospitals, some suggest that it will be a central tool in everyday life of all of us in the near future. Technological advances in the last 10 years have led to the development of new generation sequencing methods (also known as Next Generation Sequencing or NGS) that provide a massive amount of sequencing data, as millions of independent sequencing processes of the test sample or organism take place simultaneously, very quickly and at low cost. Sequencing of the entire genome is therefore attained by cloning the DNA, to obtain tons of short sequences (known as reads) that are variable need to be assembled like the pieces of a puzzle. As in a puzzle, the shorter the pieces that are provided by the technology, the larger the number of those pieces that are needed to complete the genome.\n",
    "\n",
    "The most recent NGS methods (also known as Next NGS or third generation NGS) allow to obtain longer reads directly on real time from a single DNA molecule without the need to clone. This has many advantages, most prominently that the puzzle can be assembled with less pieces, and that the time and resources needed to complete the process (from sample to results) is dramatically reduced. A company called Oxford Nanopore Technologies (ONT) recently designed the smallest handheld sequencing device ever, called MinION. Because of this, MinION becomes portable, being limited just by the necessity to be plugged in to a computer to be able to work and analyze the resulting sequence. Sequencing is achieved by the use of biological nanopores that are inserted in a synthetic membrane (Figure 1). By their combination with other devices that are integrated on a circuit chip, the passage of each base of a single-stranded DNA sequence by the nanopore is translated into a signal that is characteristic for each base and its sequence of the environment.\n",
    "\n",
    "![alt text](https://nanoporetech.com/sites/default/files/s3/sequencing-animated.gif)\n",
    "Figure 1. Schematic representation of a nanopore inserted in a membrane with one DNA sequence passing through it, translating into a characteristic electric measurement. Figure taken from [ONT](https://nanoporetech.com/applications/dna-nanopore-sequencing) \n",
    "\n",
    "The characteristic electric signals, also called events, are recorded in a digital file with FAST5 format. For these to be understandable by us, the first step just after the sequencing is the translation of the electric signals generated into the nucleotide letters, a step known as basecalling. For this step NanoDJ uses a software called Albacore that runs from the command line with some important indications or arguments such as: the place (directory) where the FAST5 files are, the location where the output is to be delivered, the computer resources to be used (number of computing threads), and specific information of the reagents employed for preparing the sample. A typical line of arguments can be: \n"
   ]
  },
  {
   "cell_type": "code",
   "execution_count": null,
   "metadata": {
    "collapsed": true
   },
   "outputs": [],
   "source": [
    "!read_fast5_basecaller.py -i data/sample/fast5 -r -t 48 -s data/sample/albacore_output -o fastq,fast5 -g"
   ]
  },
  {
   "cell_type": "markdown",
   "metadata": {},
   "source": [
    "After this first step, the user will obtain a new file in FASTQ format, which contains the nucleotide bases and is the standard type of data for the most analysis of the sequence. This file is a text file with information about the nucleotide sequence, but also with a quality score linked to each nucleotide in the sequence. Each of the sequences deposited in the FASTQ file are characterized by four lines:\n",
    "\n",
    "- Line 1 begins with an '@' character and is followed by a sequence identifier and an optional description (such as a FASTA title line).\n",
    "- Line 2 to represent the nucleotide sequence using one-letter codes.\n",
    "- Line 3 starts with a '+' character and it is optionally followed by the same identifier as the sequence again (and any other description).\n",
    "- Line 4 encodes the quality values declared by a characteristic symbol for the sequence in line 2, and must contain the same number of symbols as the letters in the sequence.\n",
    "\n",
    "The following is an example:\n",
    "```\n",
    "@SEQ_ID\n",
    "GATTTGGGGTTCAAAGCAGTATCGATCAAATAGTAAATCCATTTGTTCAACTCACAGTTT\n",
    "+\n",
    "! '' * ((((* +)) %%% ++) (%%%%). 1 * - + * '')) ** 55CCF >>>>>> CCCCCCC65\n",
    "```\n",
    "\n",
    "A FASTA file, which limits the information to the nucleotide sequence, can be derived from the FASTQ. Each of the sequences deposited in the FASTA file are characterized by two lines:\n",
    "- Line 1 starts with a '>' character and it is followed by a sequence identifier and an optional description.\n",
    "- Line 2 is the letter-encoded sequence.\n",
    "```\n",
    ">SEQ_ID\n",
    "GATTTGGGGTTCAAAGCAGTATCGATCAAATAGTAAATCCATTTGTTCAACTCACAGTTT\n",
    "```\n",
    "\n",
    "Once the basecalling is done, an initial analysis to evaluate the quality of the reads resulting from the experiment is advised. For this, NanoDJ relies on the Python programming language and the Biopython module to evaluate the quality of basecalls, and the number, length and GC content of reads.\n",
    "\n",
    "The following lines import the Biopython module and convert the FASTQ file in the FASTA file:\n"
   ]
  },
  {
   "cell_type": "code",
   "execution_count": null,
   "metadata": {},
   "outputs": [],
   "source": [
    "#Biopython module imports for loading and transforming sequence files\n",
    "from Bio import SeqIO\n",
    "\n",
    "SeqIO.convert(\"data/sample/reads.fastq\", \"fastq\", \"data/sample/reads.fasta\", \"fasta\")"
   ]
  },
  {
   "cell_type": "markdown",
   "metadata": {},
   "source": [
    "With the FASTA file, the user can create a dataframe with the sequence information. The dataframe conversion allows to derive summary tables, plots and, if necessary, to impose steps of filtering in the data. The following defines a function that takes a FASTA/FASTQ file and builds a dataframe with all the information structured as columns."
   ]
  },
  {
   "cell_type": "code",
   "execution_count": null,
   "metadata": {
    "collapsed": true
   },
   "outputs": [],
   "source": [
    "from Bio.SeqUtils import GC\n",
    "\n",
    "#Numpy and pandas to manage the data\n",
    "import numpy as np\n",
    "import pandas as pd\n",
    "\n",
    "#Use reagular expressions for extract the read id\n",
    "import re\n",
    "\n",
    "#Function to build a pandas dataframe from a FASTA or FASTQ file\n",
    "def read_sequence_file(filename, format):\n",
    "    rows = []\n",
    "    columns = ['id', 'sequence', 'read_length', 'gc_content']\n",
    "    if(format == 'fastq'):\n",
    "        columns.append('avg_quality')\n",
    "    #Building each row with the read and its features\n",
    "    for seq_record in SeqIO.parse(filename, format):\n",
    "        if(format == 'fastq'):\n",
    "            quality_score = np.mean(seq_record.letter_annotations[\"phred_quality\"])\n",
    "        read_id = seq_record.description\n",
    "        if(format == 'fastq'):\n",
    "            rows.append([read_id, seq_record.seq, len(seq_record.seq), GC(seq_record.seq), quality_score])\n",
    "        else:\n",
    "            rows.append([read_id, seq_record.seq, len(seq_record.seq), GC(seq_record.seq)])  \n",
    "        \n",
    "    df = pd.DataFrame(rows, columns=columns)\n",
    "    return df\n",
    "\n",
    "\n",
    "\n",
    "# ----- Place the path to your reads file here ----- #\n",
    "seq_df = read_sequence_file('data/metagenomics/metagenomics_exercise_sample.fa', 'fastq')"
   ]
  },
  {
   "cell_type": "markdown",
   "metadata": {},
   "source": [
    "The following line of code will assess the following metrics from the dataframe and create a summary table:\n",
    "\n",
    "- The number of sequences contained in the FASTA/FASTQ file, or equivalently the number of reads obtained by the experiment in case one experiment file is analyzed.\n",
    "- The standard deviation of each parameter.\n",
    "- Minimum and maximum values of each parameter."
   ]
  },
  {
   "cell_type": "code",
   "execution_count": null,
   "metadata": {},
   "outputs": [],
   "source": [
    "seq_df.describe()"
   ]
  },
  {
   "cell_type": "markdown",
   "metadata": {},
   "source": [
    "**Visualizations**\n",
    "\n",
    "In the following steps, the user will build plots to visualize the results:\n",
    "\n",
    "***Read length***\n",
    "\n",
    "The following lines of code will create a plot with the read length distribution. The range of length distribution is represented in the x axis and the read count in y axis."
   ]
  },
  {
   "cell_type": "code",
   "execution_count": null,
   "metadata": {},
   "outputs": [],
   "source": [
    "#Using matplotlib to generate GC content histogram\n",
    "import matplotlib.mlab as mlab\n",
    "import matplotlib.pyplot as plt\n",
    "import matplotlib\n",
    "\n",
    "#Setting the plot size\n",
    "matplotlib.rcParams['figure.figsize'] = (9, 8)\n",
    "\n",
    "#Customize the plot using the pre-defined style called “ggplot” to emulate ggplot (popular R vizualization package) style \n",
    "plt.style.use('seaborn-notebook')\n",
    "\n",
    "#On the plt.hist parameters set the number of bins and the bar color using labels as 'blue', 'red', 'yellow'... or using a RGB code.\n",
    "plt.hist(seq_df['read_length'], bins=50, color='#ef8a62')\n",
    "plt.title('Read length histogram')\n",
    "plt.xlabel('Read length in bp')\n",
    "plt.ylabel('Count')\n",
    "\n",
    "plt.show()"
   ]
  },
  {
   "cell_type": "markdown",
   "metadata": {},
   "source": [
    "***Guanine-Cytosine content (GC)***\n",
    "\n",
    "GC content is the percentage of guanine or cytosine bases present in the DNA. The Guanine - Cytosine pair is bound in the double helix by three hydrogen bonds, which increases the stability of the DNA molecule. The GC content has an impact in the technology, as regions with higher or lower GC content are more difficult to sequence. Besides, the GC content is variable among the different organisms and regions of the genome. Due to the nature of the genetic code, it is practically impossible for an organism to have a genome with a GC content approaching 0% or 100%. Therefore, exploring the distribution of the GC content of the sequencing results can provide useful information, as it can help identifying possible artifacts in the data that must be discarded before moving forward in the analysis.\n",
    "\n",
    "The distribution of GC content will be plotted with the following lines of code. The percentage of GC will be presented in the x axis and the number of reads in the y axis."
   ]
  },
  {
   "cell_type": "code",
   "execution_count": null,
   "metadata": {},
   "outputs": [],
   "source": [
    "#Building histogram with the gc content column of the dataframe\n",
    "plt.hist(seq_df['gc_content'], bins=50, color='#ef8a62')\n",
    "plt.title('GC content histogram')\n",
    "plt.xlabel('GC')\n",
    "plt.ylabel('Count')\n",
    "plt.show()"
   ]
  },
  {
   "cell_type": "markdown",
   "metadata": {},
   "source": [
    "***Quality***\n",
    "\n",
    " \n",
    "Using the information of the FASTQ file, the following lines of code will plot the quality distribution. The average quality value assigned to each sequence will be represented on the x axis and the read count on the y axis."
   ]
  },
  {
   "cell_type": "code",
   "execution_count": null,
   "metadata": {},
   "outputs": [],
   "source": [
    "#Only works with FASTQ files\n",
    "plt.hist(seq_df['avg_quality'], bins=50, color='#ef8a62')\n",
    "plt.title('Average quality histogram')\n",
    "plt.xlabel('Average quality of the read')\n",
    "plt.ylabel('Count')\n",
    "\n",
    "plt.show()"
   ]
  },
  {
   "cell_type": "markdown",
   "metadata": {},
   "source": [
    "Once the quality control and filtering steps are performed, the user can proceed with the classification of the sequences obtained in the experiment. With this, the user will be able to deduce the organism(s) that have been sequenced on the experiment, even in the case there is a mixture of them. There is plenty of software that can do this efficiently. NanoDJ relies on BLAST as it helps reducing the computational resources needed by building the database with sequences from a limited set of species of interest. For this to work in NanoDJ, the user must follow the next steps:\n",
    "\n",
    "1.- Create a database from the references file to be used by BLAST.  \n",
    "2.- Run BLAST to classify the reads in the experiment.  \n",
    "3.- Use Python for filtering and obtaining key information from the BLAST output.  \n",
    "4.- Plot the results as a representation of the proportion of each species sequenced in the experiment.  \n",
    "\n",
    "\n",
    "[BLAST](https://blast.ncbi.nlm.nih.gov)(stands for Basic Local Alignment Search Tool) is a classic and widely used tool for comparing DNA or protein sequences. BLAST needs a database where the reference sequences to be identified in an experiment are indexed for comparison (partial or complete genomes). In the following example, assume there are sequences from a complex environmental sample (typical from metagenomics experiments) that were obtained with MinION resulting in a number of reads from different DNAs from various unknown species. For simplicity, a database is built with seven genomes. These seven references were placed in one FASTA file. \n",
    "\n",
    "First, the user will create the database with the references file (all_metagenomics_references.fasta). The command makeblastdb will have the following arguments:"
   ]
  },
  {
   "cell_type": "code",
   "execution_count": null,
   "metadata": {},
   "outputs": [],
   "source": [
    "!makeblastdb -in data/metagenomics/references/database/metagenomics_references_withnames.fasta -parse_seqids -dbtype nucl"
   ]
  },
  {
   "cell_type": "markdown",
   "metadata": {},
   "source": [
    "Once the database is created, the user is ready to query it with the obtained sequences of the FASTA file with unidentified sequences. The query command has the following arguments:"
   ]
  },
  {
   "cell_type": "code",
   "execution_count": null,
   "metadata": {
    "collapsed": true
   },
   "outputs": [],
   "source": [
    "!blastn -query data/metagenomics/metagenomics_exercise_sample.fa -db /home/jovyan/notebooks/data/metagenomics/references/database/metagenomics_references_withnames.fasta -task blastn -dust no -outfmt \"10 qseqid positive sseqid\" -max_hsps 1 -max_target_seqs 1 -num_threads 2 > data/metagenomics/blast_metagenomics.csv"
   ]
  },
  {
   "cell_type": "markdown",
   "metadata": {},
   "source": [
    "The output is a table in csv format as it is easier to be processed by pandas package to analyze and plot the results. The results must be evaluated first in order to know which sequences aligned with any reference and which sequences did not align to any of the seven species represented in the database that was built. The data is grouped by subject so the user can count of sequences that aligned with each reference. Finally, because of the possibility that there may be artifacts in the sequencing results or because there may be a partial representation of species’ genomes in the built database, a proportion is obtained as the number of reads that are aligned to that reference divided by all reads aligning to any of the references. This will give the user a basic representation of species in the sequenced sample from which to draw conclusions of the experiment."
   ]
  },
  {
   "cell_type": "code",
   "execution_count": null,
   "metadata": {},
   "outputs": [],
   "source": [
    "import numpy as np\n",
    "import pandas as pd\n",
    "\n",
    "df = pd.read_csv('data/metagenomics/blast_metagenomics.csv', names=['id', 'score', 'subject'], header=None)\n",
    "\n",
    "aligned_sequences = df.loc[df['score'] > 100, :]\n",
    "unaligned_reads_count = len(df) - len(aligned_sequences)\n",
    "\n",
    "counts_df = aligned_sequences.groupby(['subject']).size().reset_index(name='counts')\n",
    "counts_df = counts_df.append({'subject':'unaligned', 'counts':unaligned_reads_count}, ignore_index=True)\n",
    "\n",
    "counts_df['counts'] = counts_df['counts'].map(lambda x: (x/(210 - unaligned_reads_count)) * 100)\n",
    "counts_df.columns = ['subject', 'proportion']\n",
    "\n",
    "display(counts_df)"
   ]
  },
  {
   "cell_type": "markdown",
   "metadata": {},
   "source": [
    "The following code takes the species proportions and builds a plot using the matplotlib module:"
   ]
  },
  {
   "cell_type": "code",
   "execution_count": null,
   "metadata": {
    "collapsed": true
   },
   "outputs": [],
   "source": [
    "import matplotlib.pyplot as plt\n",
    "import matplotlib as mpl\n",
    "mpl.rcParams['figure.figsize'] = (15,15)\n",
    "\n",
    "colors = ['#F15854', '#5DA5DA', '#FAA43A', '#60BD68', '#F17CB0', '#B276B2', '#DECF3F']\n",
    "labels = ['Alligator mississippiensis', 'Bos taurus', 'Equus caballus', 'Gallus gallus', 'Oreochromis niloticus', 'Ovis aries', 'Rattus norvegicus']\n",
    "explode = (0.02, 0.02, 0.02, 0.02, 0.02, 0.02, 0.02)\n",
    "\n",
    "plt.title('% of each species on the sample')\n",
    "plt.pie(np.asarray(counts_df['proportion'].iloc[0:7]), autopct='%.2f', colors=colors, labels=labels, explode=explode, shadow=None, startangle=90)\n",
    "centre_circle = plt.Circle((0,0),0.75,color='white', fc='white')\n",
    "fig = plt.gcf()\n",
    "fig.gca().add_artist(centre_circle)\n",
    "plt.show()"
   ]
  },
  {
   "cell_type": "markdown",
   "metadata": {},
   "source": [
    "### References\n",
    "\n",
    "[1] Jain M. et al. The Oxford Nanopore MinION: delivery of nanopore sequencing to the genomics community. Genome Biology. 2016, 17;239. DOI https://doi.org/10.1186/s13059-016-1103-0\n",
    "\n",
    "[2] Altschul SF, Gish W, Miller W, Myers EW, Lipman DJ: Basic local alignment search tool. J. Mol. Biol. 1990, 215, 403–410. DOI https://doi.org/10.1016/S0022-2836(05)80360-2"
   ]
  },
  {
   "cell_type": "code",
   "execution_count": null,
   "metadata": {
    "collapsed": true
   },
   "outputs": [],
   "source": []
  }
 ],
 "metadata": {
  "kernelspec": {
   "display_name": "Python 3",
   "language": "python",
   "name": "python3"
  },
  "language_info": {
   "codemirror_mode": {
    "name": "ipython",
    "version": 3
   },
   "file_extension": ".py",
   "mimetype": "text/x-python",
   "name": "python",
   "nbconvert_exporter": "python",
   "pygments_lexer": "ipython3",
   "version": "3.6.3"
  }
 },
 "nbformat": 4,
 "nbformat_minor": 2
}
