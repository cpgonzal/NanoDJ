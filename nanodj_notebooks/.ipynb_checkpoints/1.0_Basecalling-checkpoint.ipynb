{
 "cells": [
  {
   "cell_type": "markdown",
   "metadata": {},
   "source": [
    "## Basecalling with Albacore\n",
    "\n",
    "[Albacore](#albacore) is a processing pipeline that provides the basecalling algorithms to process raw electrical data from an Oxford Nanopore (ONT) sequencer to a DNA sequence. FAST5 files with event data are processed with Albacore which outputs the FASTQ sequence files. The transducer basecaller (helps with homopolymers) was added in v1.0 of the tool and basecalling from raw signal (without segmenting the signal into events) appeared in v2.0. \n",
    "\n",
    "The Albacore pipeline ([de.NBI Nanopore Training Course](#deNBI)) contains:\n",
    "\n",
    "**Basecalling**: The implementation of basecalling algorithms containing configuration files for basecalling chemistry.</br> \n",
    "\n",
    "**Calibration Strand Detection**: Reads are aligned against a calibration strand reference via the integrated minimap2 aligner. Calibration strands serve as a quality control for pore and experiment. If the current read is identified as a calibration strand, no barcoding or alignment steps are performed.</br> \n",
    "\n",
    "**Barcoding/Demultiplexing**: The beginning and the end of each strand are aligned against the barcodes currently provided by Oxford Nanopore Technologies. The reads are demultiplexed by the barcoding results.</br> \n",
    "\n",
    "**Alignment**: The user can provide a reference file in FASTA, lastdb or minimap2 index format. If so, the reads are aligned against this reference via the integrated minimap2 aligner.</br> \n"
   ]
  },
  {
   "cell_type": "markdown",
   "metadata": {},
   "source": [
    "### Executing Albacore"
   ]
  },
  {
   "cell_type": "markdown",
   "metadata": {},
   "source": [
    "Let's see the usage message for read_fast5_basecaller.py:"
   ]
  },
  {
   "cell_type": "code",
   "execution_count": 1,
   "metadata": {},
   "outputs": [
    {
     "name": "stdout",
     "output_type": "stream",
     "text": [
      "usage: read_fast5_basecaller.py [-h] [-l] [-v] [-i INPUT] -t WORKER_THREADS -s\n",
      "                                SAVE_PATH [--resume [X]] [-f FLOWCELL]\n",
      "                                [-k KIT] [--barcoding] [-c CONFIG]\n",
      "                                [-d DATA_PATH] [-b] [-r]\n",
      "                                [-n FILES_PER_BATCH_FOLDER] [-o OUTPUT_FORMAT]\n",
      "                                [-q READS_PER_FASTQ_BATCH]\n",
      "                                [--disable_filtering] [--disable_pings]\n",
      "\n",
      "ONT Albacore Sequencing Pipeline Software\n",
      "\n",
      "optional arguments:\n",
      "  -h, --help            show this help message and exit\n",
      "  -l, --list_workflows  List standard flowcell / kit combinations.\n",
      "  -v, --version         Print the software version.\n",
      "  -i INPUT, --input INPUT\n",
      "                        Folder containing read fast5 files (if not present,\n",
      "                        will expect file names on stdin).\n",
      "  -t WORKER_THREADS, --worker_threads WORKER_THREADS\n",
      "                        Number of worker threads to use.\n",
      "  -s SAVE_PATH, --save_path SAVE_PATH\n",
      "                        Path to save output.\n",
      "  --resume [X]          Resume previous run for the given save path. Optional\n",
      "                        parameter X is for debugging purposes only.\n",
      "  -f FLOWCELL, --flowcell FLOWCELL\n",
      "                        Flowcell used during the sequencing run.\n",
      "  -k KIT, --kit KIT     Kit used during the sequencing run.\n",
      "  --barcoding           Search for barcodes to demultiplex sequencing data.\n",
      "  -c CONFIG, --config CONFIG\n",
      "                        Optional configuration file to use.\n",
      "  -d DATA_PATH, --data_path DATA_PATH\n",
      "                        Optional path to model files.\n",
      "  -b, --debug           Output additional debug information to the log.\n",
      "  -r, --recursive       Recurse through subfolders for input data files.\n",
      "  -n FILES_PER_BATCH_FOLDER, --files_per_batch_folder FILES_PER_BATCH_FOLDER\n",
      "                        Maximum number of files in each batch subfolder. Set\n",
      "                        to 0 to disable batch subfolders.\n",
      "  -o OUTPUT_FORMAT, --output_format OUTPUT_FORMAT\n",
      "                        desired output format, can be fastq,fast5 or only one\n",
      "                        of these.\n",
      "  -q READS_PER_FASTQ_BATCH, --reads_per_fastq_batch READS_PER_FASTQ_BATCH\n",
      "                        number of reads per FastQ batch file. Set to 1 to\n",
      "                        receive one reads per file and file names which\n",
      "                        include the read ID. Set to 0 to have all reads per\n",
      "                        run ID written to one file.\n",
      "  --disable_filtering   Disable filtering into pass/fail folders\n",
      "  --disable_pings       Do not send summary information about the run\n"
     ]
    }
   ],
   "source": [
    "read_fast5_basecaller.py -h"
   ]
  },
  {
   "cell_type": "markdown",
   "metadata": {},
   "source": [
    "A list of available flowcell + kit combinations as well as the configuration files with the DNA libraries can be obtained by using the option *-l*"
   ]
  },
  {
   "cell_type": "code",
   "execution_count": 2,
   "metadata": {},
   "outputs": [
    {
     "name": "stdout",
     "output_type": "stream",
     "text": [
      "Parsing config files in /opt/albacore.\n",
      "Available flowcell + kit combinations are:\n",
      "flowcell    kit         barcoding  config file\n",
      "FLO-MIN106  SQK-DCS108             r94_450bps_linear.cfg\n",
      "FLO-MIN106  SQK-LRK001             r94_450bps_linear.cfg\n",
      "FLO-MIN106  SQK-LSK108             r94_450bps_linear.cfg\n",
      "FLO-MIN106  SQK-LSK109             r94_450bps_linear.cfg\n",
      "FLO-MIN106  SQK-LWB001  included   r94_450bps_linear.cfg\n",
      "FLO-MIN106  SQK-LWP001             r94_450bps_linear.cfg\n",
      "FLO-MIN106  SQK-PBK004  included   r94_450bps_linear.cfg\n",
      "FLO-MIN106  SQK-PCS108             r94_450bps_linear.cfg\n",
      "FLO-MIN106  SQK-PSK004             r94_450bps_linear.cfg\n",
      "FLO-MIN106  SQK-RAB201  included   r94_450bps_linear.cfg\n",
      "FLO-MIN106  SQK-RAB204  included   r94_450bps_linear.cfg\n",
      "FLO-MIN106  SQK-RAD002             r94_450bps_linear.cfg\n",
      "FLO-MIN106  SQK-RAD003             r94_450bps_linear.cfg\n",
      "FLO-MIN106  SQK-RAD004             r94_450bps_linear.cfg\n",
      "FLO-MIN106  SQK-RAS201             r94_450bps_linear.cfg\n",
      "FLO-MIN106  SQK-RBK001  included   r94_450bps_linear.cfg\n",
      "FLO-MIN106  SQK-RBK004  included   r94_450bps_linear.cfg\n",
      "FLO-MIN106  SQK-RLB001  included   r94_450bps_linear.cfg\n",
      "FLO-MIN106  SQK-RLI001             r94_450bps_linear.cfg\n",
      "FLO-MIN106  SQK-RNA001             r941_70bps_rna_linear.cfg\n",
      "FLO-MIN106  SQK-RPB004  included   r94_450bps_linear.cfg\n",
      "FLO-MIN106  VSK-VBK001             r94_450bps_linear.cfg\n",
      "FLO-MIN106  VSK-VMK001  included   r94_450bps_linear.cfg\n",
      "FLO-MIN106  VSK-VSK001             r94_450bps_linear.cfg\n",
      "FLO-MIN107  SQK-DCS108             r95_450bps_linear.cfg\n",
      "FLO-MIN107  SQK-LRK001             r95_450bps_linear.cfg\n",
      "FLO-MIN107  SQK-LSK108             r95_450bps_linear.cfg\n",
      "FLO-MIN107  SQK-LSK109             r95_450bps_linear.cfg\n",
      "FLO-MIN107  SQK-LWB001  included   r95_450bps_linear.cfg\n",
      "FLO-MIN107  SQK-LWP001             r95_450bps_linear.cfg\n",
      "FLO-MIN107  SQK-PBK004  included   r95_450bps_linear.cfg\n",
      "FLO-MIN107  SQK-PCS108             r95_450bps_linear.cfg\n",
      "FLO-MIN107  SQK-PSK004             r95_450bps_linear.cfg\n",
      "FLO-MIN107  SQK-RAB201  included   r95_450bps_linear.cfg\n",
      "FLO-MIN107  SQK-RAB204  included   r95_450bps_linear.cfg\n",
      "FLO-MIN107  SQK-RAD002             r95_450bps_linear.cfg\n",
      "FLO-MIN107  SQK-RAD003             r95_450bps_linear.cfg\n",
      "FLO-MIN107  SQK-RAD004             r95_450bps_linear.cfg\n",
      "FLO-MIN107  SQK-RAS201             r95_450bps_linear.cfg\n",
      "FLO-MIN107  SQK-RBK001  included   r95_450bps_linear.cfg\n",
      "FLO-MIN107  SQK-RBK004  included   r95_450bps_linear.cfg\n",
      "FLO-MIN107  SQK-RLB001  included   r95_450bps_linear.cfg\n",
      "FLO-MIN107  SQK-RLI001             r95_450bps_linear.cfg\n",
      "FLO-MIN107  SQK-RNA001             r941_70bps_rna_linear.cfg\n",
      "FLO-MIN107  SQK-RPB004  included   r95_450bps_linear.cfg\n",
      "FLO-MIN107  VSK-VBK001             r95_450bps_linear.cfg\n",
      "FLO-MIN107  VSK-VMK001  included   r95_450bps_linear.cfg\n",
      "FLO-MIN107  VSK-VSK001             r95_450bps_linear.cfg\n",
      "FLO-PRO001  SQK-LSK109             r941_450bps_linear_prom.cfg\n"
     ]
    }
   ],
   "source": [
    "read_fast5_basecaller.py -l"
   ]
  },
  {
   "cell_type": "markdown",
   "metadata": {},
   "source": [
    "Albacore (since v1.1 release) can basecall directly to fastq and fast5 files by using the options *-o fastq* or *-o fast5*, respectively. The fastq option saves disk space and is usually more convenient but we can specify both types of files.\n",
    "We run the tool with the following options:\n",
    "\n",
    "| <p style='text-align: left;'>What?</p>                     | <p style='text-align: left;'>parameter</p> | <p style='text-align: left;'>value</p>                                      |\n",
    "|:-----------------------------------------------------------|:----------|:----------------------------------------|\n",
    "| <p style='text-align: left;'>Output file type you want (fast5, fastq, or both) </p>         | <p style='text-align: left;'>-o</p>        | <p style='text-align: left;'>fastq,fast5</p>                             |\n",
    "| <p style='text-align: left;'>Full path to directory containing the input raw read files</p> | <p style='text-align: left;'>-i</p>        | <p style='text-align: left;'>data/Agalactiae/Data_MinION/raw_1D/pass</p> |\n",
    "| <p style='text-align: left;'>Recursive search through subfolders for input data files</p>   | <p style='text-align: left;'>-r</p>        |                                         |\n",
    "| <p style='text-align: left;'>Full path to directory where the output basecalled files</p>   | <p style='text-align: left;'>-i</p>        | <p style='text-align: left;'>data/Agalactiae/Outputs/Albacore</p>        |\n",
    "| <p style='text-align: left;'>Number of worker threads to use</p>                            | <p style='text-align: left;'>-t</p>        | <p style='text-align: left;'>48</p>                                      |\n",
    "| <p style='text-align: left;'>Configuration file for basecalling chemistry</p>               | <p style='text-align: left;'>-c</p>        | <p style='text-align: left;'>r94_450bps_linear.cfg</p>                   |"
   ]
  },
  {
   "cell_type": "markdown",
   "metadata": {},
   "source": [
    "#### REMARK: **Data should not be included in /data folder of this project (see \"Additional data\" section in README file)**\n"
   ]
  },
  {
   "cell_type": "code",
   "execution_count": 4,
   "metadata": {},
   "outputs": [],
   "source": [
    "read_fast5_basecaller.py -o fastq,fast5 \\\n",
    "                         -i data/sample/fast5 \\\n",
    "                         -r \\\n",
    "                         -s data/sample/output \\\n",
    "                         -t 48 \\\n",
    "                         -c r94_450bps_linear.cfg"
   ]
  },
  {
   "cell_type": "markdown",
   "metadata": {},
   "source": [
    "Output files are often divided in more than one FASTQ/FASTA file. In order to perform QC, alignments or assemblies, the sequences need to be in one unique file. We can easily join the output files using bash commands:"
   ]
  },
  {
   "cell_type": "code",
   "execution_count": 5,
   "metadata": {
    "collapsed": true
   },
   "outputs": [],
   "source": [
    "cat data/sample/*.fastq > data/sample/merged-output.fastq"
   ]
  },
  {
   "cell_type": "markdown",
   "metadata": {},
   "source": [
    "### Comparison of ONT basecalling tools\n",
    "\n",
    "A comparison of different ONT basecalling tools is presented in the GitHub repository by [Wick et al., 2018](#wick_et_al). In particular, they use a bacterial genome to assess the read accuracy and consensus sequence accuracy of different tools developed by ONT. Among the conclusions of this comparison study, Albacore, Guppy and Scrappie raw were the best performers for read accuracy, whereas Chiron produced the best assemblies. In particular, the authors suggest that Albacore v2.1.10 is probably the best basecaller choice for most users because it has very good read accuracy and produces acceptable assemblies. This tool runs quickly, is simple to use and has many useful features such as barcode demultiplexing. If a GPU is available, Guppy v0.5.1 can produce the same basecalls in much less time, but it is not yet publicly available and lacks barcode demultiplexing. "
   ]
  },
  {
   "cell_type": "markdown",
   "metadata": {},
   "source": [
    "### References"
   ]
  },
  {
   "cell_type": "markdown",
   "metadata": {},
   "source": [
    "<a id='albacore'>[1]</a> Oxford Nanopore Technology (2017, September 4). New basecaller now performs ‘raw basecalling’, for improved sequencing accuracy. URL \n",
    "https://nanoporetech.com/about-us/news/new-basecaller-now-performs-raw-basecalling-improved-sequencing-accuracy \n",
    "\n",
    "<a id='wick_et_al'>[2]</a> Wick R., Judd L.M. and Holt K.E. (2018, March 5). Comparison of Oxford Nanopore basecalling tools. GitHub. URL https://github.com/rrwick/Basecalling-comparison \n",
    "\n",
    "<a id='deNBI'>[3]</a> de.NBI Nanopore Training Course (2017). GitHub repository. URL https://denbi-nanopore-training-course.readthedocs.io/en/latest/index.html"
   ]
  },
  {
   "cell_type": "code",
   "execution_count": null,
   "metadata": {},
   "outputs": [],
   "source": []
  }
 ],
 "metadata": {
  "kernelspec": {
   "display_name": "Bash",
   "language": "bash",
   "name": "bash"
  },
  "language_info": {
   "codemirror_mode": "shell",
   "file_extension": ".sh",
   "mimetype": "text/x-sh",
   "name": "bash"
  }
 },
 "nbformat": 4,
 "nbformat_minor": 2
}
