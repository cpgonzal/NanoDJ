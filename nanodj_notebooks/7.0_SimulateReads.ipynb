{
 "cells": [
  {
   "cell_type": "markdown",
   "metadata": {},
   "source": [
    "## Simmulating MinION reads with Nanosim\n",
    "\n",
    "[NanoSim](https://github.com/bcgsc/NanoSim) is a fast and scalable read simulator that captures the technology-specific features of ONT data, and allows for adjustments upon improvement of nanopore sequencing technology.\n",
    "\n",
    "Reads simulation takes two stages. The characterization stage takes the reads and the reference genome and generates a model. This model will do the simulation based on training reads.\n",
    "\n",
    "We are using [Nanosim-h](https://github.com/karel-brinda/NanoSim-H), a fork from the Nanosim project which allow us to go directly to the simulation stage using precomputed profiles instead of spend time on building the model."
   ]
  },
  {
   "cell_type": "code",
   "execution_count": 2,
   "metadata": {},
   "outputs": [
    {
     "name": "stdout",
     "output_type": "stream",
     "text": [
      "usage: nanosim-h [-h] [-p str] [-o str] [-n int] [-u float] [-m float]\n",
      "                 [-i float] [-d float] [-s int] [--circular] [--perfect]\n",
      "                 [--merge-contigs] [--rnf] [--rnf-add-cigar] [--max-len int]\n",
      "                 [--min-len int] [--kmer-bias int]\n",
      "                 <reference.fa>\n",
      "\n",
      "Program:  NanoSim-H - a simulator of Oxford Nanopore reads.\n",
      "Version:  1.1.0.3\n",
      "Authors:  Chen Yang <cheny@bcgsc.ca> - author of the original software package (NanoSim)\n",
      "          Karel Brinda <kbrinda@hsph.harvard.edu> - author of the NanoSim-H fork\n",
      "\n",
      "positional arguments:\n",
      "  <reference.fa>        reference genome (- for standard input)\n",
      "\n",
      "optional arguments:\n",
      "  -h, --help            show this help message and exit\n",
      "  -p str, --profile str\n",
      "                        error profile - one of precomputed profiles\n",
      "                        ('ecoli_R7.3', 'ecoli_R7', 'ecoli_R9_1D',\n",
      "                        'ecoli_R9_2D', 'ecoli_UCSC1b', 'yeast') or own\n",
      "                        directory with an error profile [ecoli_R9_2D]\n",
      "  -o str, --out-pref str\n",
      "                        prefix of output file [simulated]\n",
      "  -n int, --number int  number of generated reads [10000]\n",
      "  -u float, --unalign-rate float\n",
      "                        rate of unaligned reads [detect from the error\n",
      "                        profile]\n",
      "  -m float, --mis-rate float\n",
      "                        mismatch rate (weight tuning) [1.0]\n",
      "  -i float, --ins-rate float\n",
      "                        insertion rate (weight tuning) [1.0]\n",
      "  -d float, --del-rate float\n",
      "                        deletion rate (weight tuning) [1.0]\n",
      "  -s int, --seed int    initial seed for the pseudorandom number generator (0\n",
      "                        for random) [42]\n",
      "  --circular            circular simulation (linear otherwise)\n",
      "  --perfect             output perfect reads, no mutations\n",
      "  --merge-contigs       merge contigs from the reference\n",
      "  --rnf                 use RNF format for read names\n",
      "  --rnf-add-cigar       add cigar to RNF names (not fully debugged, yet)\n",
      "  --max-len int         maximum read length [inf]\n",
      "  --min-len int         minimum read length [50]\n",
      "  --kmer-bias int       prohibits homopolymers with length >= n bases in\n",
      "                        output reads [6]\n",
      "\n",
      "Examples: nanosim-h --circular ecoli_ref.fasta\n",
      "          nanosim-h --circular --perfect ecoli_ref.fasta\n",
      "          nanosim-h -p yeast --kmer-bias 0 yeast_ref.fasta\n",
      "\n",
      "Notice: the use of `max-len` and `min-len` will affect the read length distributions. If\n",
      "the range between `max-len` and `min-len` is too small, the program will run slowlier accordingly.\n"
     ]
    }
   ],
   "source": [
    "nanosim-h -h"
   ]
  },
  {
   "cell_type": "code",
   "execution_count": null,
   "metadata": {},
   "outputs": [],
   "source": [
    "nanosim-h data/metagenomics/references/chicken_galGal5_chrM.fasta -n 100"
   ]
  },
  {
   "cell_type": "code",
   "execution_count": null,
   "metadata": {},
   "outputs": [],
   "source": []
  }
 ],
 "metadata": {
  "kernelspec": {
   "display_name": "Bash",
   "language": "bash",
   "name": "bash"
  },
  "language_info": {
   "codemirror_mode": "shell",
   "file_extension": ".sh",
   "mimetype": "text/x-sh",
   "name": "bash"
  }
 },
 "nbformat": 4,
 "nbformat_minor": 2
}
