{
 "cells": [
  {
   "cell_type": "markdown",
   "metadata": {},
   "source": [
    "## Hybrid assemblies with Unicycler\n",
    "\n",
    "We can get an hybrid assembly based on ONT + Illumina reads with Unicycler. [Unicycler](https://github.com/rrwick/Unicycler) is an assembly pipeline for bacterial genomes. IonTorrent reads can also be used to build an hybrid assemby with ONT reads. The pipeline has assembly and improvement steps and need the following inputs:\n",
    "\n",
    "-1 and -2: Illumina reads.  \n",
    "-l: Long reads (ONT in our case).  \n",
    "-s: IonTorrent reads.  \n"
   ]
  },
  {
   "cell_type": "markdown",
   "metadata": {},
   "source": [
    "#### REMARK: **Data should not be included in /data folder of this project (see \"Additional data\" section in README file)**"
   ]
  },
  {
   "cell_type": "code",
   "execution_count": null,
   "metadata": {
    "collapsed": true
   },
   "outputs": [],
   "source": [
    "#Illumina agalactiae data to be released\n",
    "./unicycler-runner.py \\\n",
    "                      -1 data/Agalactiae/Data_Ilumina/Raw/WGS_bacterialIsolates_MiSeq_training-33608589/Sagalactiae_HRC-41106565/Sagal_S5_L001_R1_001.fastq.gz \\\n",
    "                      -2 data/Agalactiae/Data_Ilumina/Raw/WGS_bacterialIsolates_MiSeq_training-33608589/Sagalactiae_HRC-41106565/Sagal_S5_L001_R2_001.fastq.gz \\\n",
    "                      -l data/agalactiae/merged-output.fastq \\\n",
    "                      -o trihibrido_output_albacore\n"
   ]
  },
  {
   "cell_type": "markdown",
   "metadata": {},
   "source": [
    "## Hybrid assembly with MaSuRCA\n",
    "\n",
    "[MaSuRCA](http://www.genome.umd.edu/masurca.html) is a de novo assembler which has the capacity to assemble both only short reads or a mixture of short and long reads.\n",
    "\n",
    "MaSuRCA has a configuration file where arguments and input data paths are placed. Once the configuration file is ready, the \"masurca\" binary script will check the configuration file and load the arguments. In this example, the configuration file is created only providing the necessary arguments to build an assembly from Illumina short reads and ONT long reads. Finally, the \"assembly.sh\" script is executed to build the hybrid assembly.\n"
   ]
  },
  {
   "cell_type": "code",
   "execution_count": null,
   "metadata": {
    "collapsed": true
   },
   "outputs": [],
   "source": [
    "#The following command builds the configuration file adding the lines below from \"DATA\" to the \"EOL\" lines in an empty file.\n",
    "\n",
    "cat > config_file.txt << EOL\n",
    "DATA\n",
    "PE= pe 300 15  data/Agalactiae/Data_Ilumina/Raw/WGS_bacterialIsolates_MiSeq_training-33608589/Sagalactiae_HRC-41106565/Sagal_S5_L001_R1_001.fastq.gz  data/Agalactiae/Data_Ilumina//Raw/WGS_bacterialIsolates_MiSeq_training-33608589/Sagalactiae_HRC-41106565/Sagal_S5_L001_R2_001.fastq.gz\n",
    "NANOPORE=data/agalactiae/merged-output.fastq\n",
    "END\n",
    "PARAMETERS\n",
    "GRAPH_KMER_SIZE = auto\n",
    "USE_LINKING_MATES = 0\n",
    "LIMIT_JUMP_COVERAGE = 300\n",
    "CA_PARAMETERS =  cgwErrorRate=0.15\n",
    "KMER_COUNT_THRESHOLD = 1\n",
    "NUM_THREADS = 48\n",
    "JF_SIZE = 63000000\n",
    "END\n",
    "EOL"
   ]
  },
  {
   "cell_type": "code",
   "execution_count": null,
   "metadata": {
    "collapsed": true
   },
   "outputs": [],
   "source": [
    "#Config file is loaded and assembly script is run\n",
    "masurca config_file.txt && assemble.sh"
   ]
  },
  {
   "cell_type": "code",
   "execution_count": null,
   "metadata": {},
   "outputs": [],
   "source": []
  }
 ],
 "metadata": {
  "kernelspec": {
   "display_name": "Bash",
   "language": "bash",
   "name": "bash"
  },
  "language_info": {
   "codemirror_mode": "shell",
   "file_extension": ".sh",
   "mimetype": "text/x-sh",
   "name": "bash"
  }
 },
 "nbformat": 4,
 "nbformat_minor": 2
}
