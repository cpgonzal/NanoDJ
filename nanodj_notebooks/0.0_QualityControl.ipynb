{
 "cells": [
  {
   "cell_type": "markdown",
   "metadata": {},
   "source": [
    "# Quality Control (QC)\n",
    "\n",
    "An initial analysis to evaluate the quality of the reads resulting from the experiment is highly recommended. For this, NanoDJ relies on the Python programming language and the [BioPython](biopython.org/) module to evaluate the quality of basecalls, and the number, length and GC content of the reads. Processing the data using Python and this module allows greater control when filtering or visualizing the data.\n",
    "\n",
    "The Biopython package uses the SeqIO module, which provides an interface to input and output assorted sequence files (as FASTA/FASTQ). Sequences are sorted as SeqRecord objects, a data structure for sequences that can also store more information than the sequence itself and makes it easy to get some interesting metrics such as the Phred score. Other data science modules like numpy and pandas are used to process the data as a table and the module matplotlib to generate visualizations of the data.\n",
    "  "
   ]
  },
  {
   "cell_type": "code",
   "execution_count": null,
   "metadata": {
    "collapsed": true
   },
   "outputs": [],
   "source": [
    "#Biopython module imports for loading sequence files\n",
    "from Bio import SeqIO\n",
    "from Bio.SeqUtils import GC\n",
    "\n",
    "#Numpy and pandas to manage the data\n",
    "import numpy as np\n",
    "import pandas as pd\n",
    "\n",
    "#To use regular reagular expressions for extract the read id\n",
    "import re"
   ]
  },
  {
   "cell_type": "markdown",
   "metadata": {},
   "source": [
    "After importing the necessary packages, the first step is to build a pandas dataframe of the reads and their features."
   ]
  },
  {
   "cell_type": "code",
   "execution_count": null,
   "metadata": {
    "collapsed": true
   },
   "outputs": [],
   "source": [
    "#Function to build a pandas dataframe from a FASTA or FASTQ file\n",
    "def read_sequence_file(filename, format):\n",
    "    rows = []\n",
    "    columns = ['id', 'sequence', 'read_length', 'gc_content']\n",
    "    if(format == 'fastq'):\n",
    "        columns.append('avg_quality')\n",
    "    #Building each row with the read and its features\n",
    "    for seq_record in SeqIO.parse(filename, format):\n",
    "        if(format == 'fastq'):\n",
    "            quality_score = np.mean(seq_record.letter_annotations[\"phred_quality\"])\n",
    "        read_id = re.search('(^.+?)\\s', seq_record.description).group(1)\n",
    "        if(format == 'fastq'):\n",
    "            rows.append([read_id, seq_record.seq, len(seq_record.seq), GC(seq_record.seq), quality_score])\n",
    "        else:\n",
    "            rows.append([read_id, seq_record.seq, len(seq_record.seq), GC(seq_record.seq)])  \n",
    "        \n",
    "    df = pd.DataFrame(rows, columns=columns)\n",
    "    return df\n",
    "        \n",
    "seq_df = read_sequence_file('data/agalactiae/merged-output.fastq', 'fastq')"
   ]
  },
  {
   "cell_type": "markdown",
   "metadata": {},
   "source": [
    "### Visualizations\n",
    "\n",
    "#### Guanine-Cytosine (GC) content\n",
    "\n",
    "GC content is the percentage of guanine or cytosine bases that are present in the DNA. The Guanine - Cytosine pair is bound in the double helix by three hydrogen bonds, which increases the stability of the DNA molecule. The GC content of a sequence has usually an impact in the sequencing results, as regions with higher or lower GC content are more difficult to sequence. Besides, the GC content is variable among the different organisms and regions of the genome. Due to the nature of the genetic code, it is practically impossible for an organism to have a genome with a GC content approaching 0% or 100%. Therefore, exploring the distribution of the GC content of the sequencing results can provide useful information, such as to help identifying possible artefacts in the data that must be discarded before moving forward in the analysis.\n",
    "\n",
    "Biopython's SeqIO built-in functions extracts the information from DNA sequences and builds a dataframe with the useful features. In this step, using matplotlib one can generate visualizations. The distribution of GC content will be plotted with the following lines of code. The percentage of GC will be presented in the x axis and the number of reads in the y axis."
   ]
  },
  {
   "cell_type": "code",
   "execution_count": null,
   "metadata": {
    "collapsed": true
   },
   "outputs": [],
   "source": [
    "#Using matplotlib to generate GC content histogram\n",
    "import matplotlib.mlab as mlab\n",
    "import matplotlib.pyplot as plt\n",
    "import matplotlib"
   ]
  },
  {
   "cell_type": "code",
   "execution_count": null,
   "metadata": {
    "collapsed": true
   },
   "outputs": [],
   "source": [
    "#Setting the plot size\n",
    "matplotlib.rcParams['figure.figsize'] = (9, 8)\n",
    "\n",
    "#Building histogram with the gc content column of the dataframe\n",
    "plt.hist(seq_df['gc_content'], bins=50, color='#ef8a62')\n",
    "plt.title('GC content histogram')\n",
    "plt.xlabel('GC')\n",
    "plt.ylabel('Count')\n",
    "plt.show()"
   ]
  },
  {
   "cell_type": "markdown",
   "metadata": {},
   "source": [
    "#### Read length \n",
    "\n",
    "The main advantage of using matplotlib to visualize the data is the capability of customize the plots. The same histogram plot function is used to visualize the read length distribution or the average quality of the reads in the set. The range of length distribution is represented in the x axis and the read count in y axis."
   ]
  },
  {
   "cell_type": "code",
   "execution_count": null,
   "metadata": {
    "collapsed": true
   },
   "outputs": [],
   "source": [
    "#Customize the plot using the pre-defined style called “ggplot” to emulate ggplot (popular R visualization package) style \n",
    "plt.style.use('seaborn-notebook')\n",
    "\n",
    "#On the plt.hist parameters we can set the number of bins and the bar color using labels as 'blue', 'red', 'yellow'... or using a RGB code.\n",
    "plt.hist(seq_df['read_length'], bins=50, color='#ef8a62')\n",
    "plt.title('Read length histogram')\n",
    "plt.xlabel('Read length in bp')\n",
    "plt.ylabel('Count')\n",
    "\n",
    "plt.show()"
   ]
  },
  {
   "cell_type": "markdown",
   "metadata": {},
   "source": [
    "#### Quality\n",
    "\n",
    "Using the information of the FASTQ file, the following lines of code will plot the quality distribution. The average quality value assigned to each sequence will be represented on the x axis and the read count on the y axis."
   ]
  },
  {
   "cell_type": "code",
   "execution_count": null,
   "metadata": {
    "collapsed": true
   },
   "outputs": [],
   "source": [
    "#Only works if input file is in FASTQ format\n",
    "plt.hist(seq_df['avg_quality'], bins=50, color='#ef8a62')\n",
    "plt.title('Average quality histogram')\n",
    "plt.xlabel('Average quality of the read')\n",
    "plt.ylabel('Count')\n",
    "\n",
    "plt.show()"
   ]
  },
  {
   "cell_type": "markdown",
   "metadata": {},
   "source": [
    "#### Represent and analyze in range \n",
    "\n",
    "Other subsets of the data can be created to get the statistics or plot a read length histogram of the reads with a GC content within a given range. The “describe” function outputs a table with some statistics of the selected dataframe."
   ]
  },
  {
   "cell_type": "code",
   "execution_count": null,
   "metadata": {
    "collapsed": true
   },
   "outputs": [],
   "source": [
    "first_range_df = seq_df[(seq_df['gc_content'] > 30) & (seq_df['gc_content'] < 50)]\n",
    "second_range_df = seq_df[(seq_df['gc_content'] > 55) & (seq_df['gc_content'] < 80)]\n",
    "\n",
    "first_range_df.describe()"
   ]
  },
  {
   "cell_type": "markdown",
   "metadata": {},
   "source": [
    "In this case, two read subsets and matplotlib are used to generate figures with two subplots, each one showing features as read length or average quality for each of the two subsets that were created from the FASTA/FASTQ file."
   ]
  },
  {
   "cell_type": "code",
   "execution_count": null,
   "metadata": {
    "collapsed": true
   },
   "outputs": [],
   "source": [
    "#Only works if input file is in FASTQ format\n",
    "f, axarr = plt.subplots(2)\n",
    "\n",
    "axarr[0].hist(first_range_df['avg_quality'], bins=50, color='#67a9cf')\n",
    "axarr[0].set_title('Qualities of reads with GC content in the two ranges')\n",
    "\n",
    "axarr[1].hist(second_range_df['avg_quality'], bins=50, color='#ef8a62')\n",
    "\n",
    "\n",
    "plt.show()"
   ]
  },
  {
   "cell_type": "code",
   "execution_count": null,
   "metadata": {
    "collapsed": true
   },
   "outputs": [],
   "source": [
    "f, axarr = plt.subplots(2)\n",
    "\n",
    "axarr[0].hist(first_range_df['read_length'], bins=50, color='#67a9cf')\n",
    "axarr[0].set_title('Length of reads with GC content in the two ranges')\n",
    "\n",
    "axarr[1].hist(second_range_df['read_length'], bins=50, color='#ef8a62')\n",
    "\n",
    "\n",
    "plt.show()"
   ]
  },
  {
   "cell_type": "code",
   "execution_count": null,
   "metadata": {
    "collapsed": true
   },
   "outputs": [],
   "source": []
  }
 ],
 "metadata": {
  "kernelspec": {
   "display_name": "Python 3",
   "language": "python",
   "name": "python3"
  },
  "language_info": {
   "codemirror_mode": {
    "name": "ipython",
    "version": 3
   },
   "file_extension": ".py",
   "mimetype": "text/x-python",
   "name": "python",
   "nbconvert_exporter": "python",
   "pygments_lexer": "ipython3",
   "version": "3.6.3"
  }
 },
 "nbformat": 4,
 "nbformat_minor": 2
}
