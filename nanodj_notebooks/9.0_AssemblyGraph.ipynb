{
 "cells": [
  {
   "cell_type": "markdown",
   "metadata": {},
   "source": [
    "# Bandage  \n",
    "\n",
    "[Bandage](https://rrwick.github.io/Bandage/) is a program for visualizing de novo assembly graphs. They are usually loaded and displayed very fast and with little memory requirements.\n",
    "An ideal graph would contain a different path for each underlying sequence, but due to complexities of the assembly, such as the presence of repeated sequences, graphs contain bifurcation structures (when one node can lead to others). Bandage can be easily used for visually assessing and comparing the quality of assemblies, identify problematic regions of an assembly or resolve ambiguities in the graph to improve or complete de novo assemblies, among other possibilities.\n",
    "\n",
    "Bandage facilitates interaction with De Bruijn graphs resulting from de novo assemblers. With its GUI, the user can easily display an assembly graph such as the .gfa files generated with the Canu pipeline, but also from other widely used assemblers such as LastGraph (Velvet), FASTG (SPAdes), Trinity.fasta and ASQG. Bandage graph visualizations allow the user to zoom, add labels, change colors, extract sequences, pan and rotate the view as well, and move or reshape the graph nodes using the mouse and keyboard. Other interesting features are the possibility to highlight and label specific sequences with integrated BLAST search as well as to annotate the graph nodes with length, coverage or other user-defined labels. By allowing copying to the clipboard sequences directly from the plot, Bandage may help to manually solve complexities of the assembly in case additional information is available. Image files from assembly graph visualizations can be generated as well. \n",
    "\n",
    "Previously the container must be executed in this way to be able to execute the Bandage interface:\n",
    "\n",
    "The GUI can be used from NanoDJ with:\n",
    "\n",
    "**Linux Users**  \n",
    "Display the GUI mounting X11 socket and setting *DISPLAY* the -e option:\n",
    "```\n",
    "docker run -it --rm -p 8888:8888 \\  \n",
    "           -e DISPLAY=$DISPLAY \\  \n",
    "           -v /tmp/.X11-unix:/tmp/.X11-unix \\  \n",
    "           -v /path/to/NanoDJ/nanodj_notebooks:/home/jovyan/notebooks \\  \n",
    "           nanodj:latest\n",
    "```\n",
    "And then run Bandage:"
   ]
  },
  {
   "cell_type": "code",
   "execution_count": 1,
   "metadata": {
    "collapsed": true
   },
   "outputs": [],
   "source": [
    "Bandage"
   ]
  },
  {
   "cell_type": "markdown",
   "metadata": {},
   "source": [
    "After running the command, if the container was launched as specified above, the Bandage GUI should pop up to allow loading the .gfa files generated."
   ]
  },
  {
   "cell_type": "markdown",
   "metadata": {},
   "source": [
    "### References\n",
    "\n",
    "[1] Wick R.R., Schultz M.B., Zobel J. & Holt K.E. Bandage: interactive visualisation of de novo genome assemblies.  Bioinformatics, Volume 31, Issue 20, 15 October 2015, Pages 3350–3352. DOI: https://doi.org/10.1093/bioinformatics/btv383\n"
   ]
  },
  {
   "cell_type": "code",
   "execution_count": null,
   "metadata": {
    "collapsed": true
   },
   "outputs": [],
   "source": []
  }
 ],
 "metadata": {
  "kernelspec": {
   "display_name": "Bash",
   "language": "bash",
   "name": "bash"
  },
  "language_info": {
   "codemirror_mode": "shell",
   "file_extension": ".sh",
   "mimetype": "text/x-sh",
   "name": "bash"
  }
 },
 "nbformat": 4,
 "nbformat_minor": 2
}
