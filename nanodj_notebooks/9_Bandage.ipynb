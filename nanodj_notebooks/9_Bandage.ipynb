{
 "cells": [
  {
   "cell_type": "markdown",
   "metadata": {},
   "source": [
    "# Bandage  \n",
    "We can visualize de novo assembly graphs using [Bandage](https://rrwick.github.io/Bandage/). This program has a GUI that can be be started with NanoDJ:\n",
    "\n",
    "**Linux Users**  \n",
    "Display the GUI mounting X11 socket and setting *DISPLAY* the -e option:\n",
    "```\n",
    "docker run -it --rm -p 8888:8888 \\  \n",
    "           -e DISPLAY=$DISPLAY \\  \n",
    "           -v /tmp/.X11-unix:/tmp/.X11-unix \\  \n",
    "           -v /path/to/NanoDJ/nanodj_notebooks:/home/jovyan/notebooks \\  \n",
    "           nanodj:latest\n",
    "```\n",
    "And then run Bandage:"
   ]
  },
  {
   "cell_type": "code",
   "execution_count": 1,
   "metadata": {},
   "outputs": [],
   "source": [
    "Bandage"
   ]
  },
  {
   "cell_type": "code",
   "execution_count": null,
   "metadata": {},
   "outputs": [],
   "source": []
  }
 ],
 "metadata": {
  "kernelspec": {
   "display_name": "Bash",
   "language": "bash",
   "name": "bash"
  },
  "language_info": {
   "codemirror_mode": "shell",
   "file_extension": ".sh",
   "mimetype": "text/x-sh",
   "name": "bash"
  }
 },
 "nbformat": 4,
 "nbformat_minor": 2
}
